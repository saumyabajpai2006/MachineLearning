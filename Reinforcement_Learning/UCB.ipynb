{
 "cells": [
  {
   "cell_type": "code",
   "execution_count": 1,
   "id": "3f42cb19",
   "metadata": {},
   "outputs": [],
   "source": [
    "import math\n",
    "import random"
   ]
  },
  {
   "cell_type": "code",
   "execution_count": 2,
   "id": "d7e21ca1",
   "metadata": {},
   "outputs": [],
   "source": [
    "n_machines = 10\n",
    "n_trials = 10"
   ]
  },
  {
   "cell_type": "markdown",
   "id": "8fc81e30",
   "metadata": {},
   "source": [
    "- count[i] stores how many times machine i has been played\n",
    "- rewards[i] stores how many total rewards were received from machine i\n",
    "- initially, all values are 0 because we have not played yet"
   ]
  },
  {
   "cell_type": "code",
   "execution_count": null,
   "id": "a285db8a",
   "metadata": {},
   "outputs": [],
   "source": []
  }
 ],
 "metadata": {
  "kernelspec": {
   "display_name": "base",
   "language": "python",
   "name": "python3"
  },
  "language_info": {
   "codemirror_mode": {
    "name": "ipython",
    "version": 3
   },
   "file_extension": ".py",
   "mimetype": "text/x-python",
   "name": "python",
   "nbconvert_exporter": "python",
   "pygments_lexer": "ipython3",
   "version": "3.12.3"
  }
 },
 "nbformat": 4,
 "nbformat_minor": 5
}
