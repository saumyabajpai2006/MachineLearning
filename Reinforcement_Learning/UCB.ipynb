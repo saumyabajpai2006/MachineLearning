{
 "cells": [
  {
   "cell_type": "markdown",
   "id": "f20e8af0",
   "metadata": {},
   "source": [
    "UPPER CONFIDENCE BOUND"
   ]
  },
  {
   "cell_type": "markdown",
   "id": "9626c6aa",
   "metadata": {},
   "source": [
    "BENEFITS\n",
    "\n",
    "- Try each machine once in the beginning\n",
    "- After that, pick the machine that has the best average score\n",
    "- If two machines seem close ,give more chances to the one that hasn't been tested with\n",
    "\n",
    "PROBLEM\n",
    "- If one machine was lucky in the first few rounds, UCB might keep picking it , even if another machine is actually better"
   ]
  },
  {
   "cell_type": "code",
   "execution_count": 33,
   "id": "3f42cb19",
   "metadata": {},
   "outputs": [],
   "source": [
    "import math\n",
    "import random"
   ]
  },
  {
   "cell_type": "code",
   "execution_count": 34,
   "id": "d7e21ca1",
   "metadata": {},
   "outputs": [],
   "source": [
    "n_machines = 3\n",
    "n_trials = 10"
   ]
  },
  {
   "cell_type": "markdown",
   "id": "8fc81e30",
   "metadata": {},
   "source": [
    "- count[i] stores how many times machine i has been played\n",
    "- rewards[i] stores how many total rewards were received from machine i\n",
    "- initially, all values are 0 because we have not played yet"
   ]
  },
  {
   "cell_type": "code",
   "execution_count": 35,
   "id": "a285db8a",
   "metadata": {},
   "outputs": [],
   "source": [
    "count = [0] * n_machines\n",
    "rewards = [0] * n_machines"
   ]
  },
  {
   "cell_type": "code",
   "execution_count": 36,
   "id": "0a6e219f",
   "metadata": {},
   "outputs": [],
   "source": [
    "true_rewards = [0.2, 0.5, 0.8]  # True probabilities of success for each machine"
   ]
  },
  {
   "cell_type": "code",
   "execution_count": 37,
   "id": "eef837e9",
   "metadata": {},
   "outputs": [],
   "source": [
    "# this loop runs 10 times(since n_trials = 10)\n",
    "#each time, agent chooses a slot machine to play based on UCB algorithm\n",
    "for t in range(1,n_trials + 1):\n",
    "    # If any machine has not played yet(0 in count), we choose it first\n",
    "    #this ensures each machine is played at least once before applying UCB formula, thi is called exploration\n",
    "    if 0 in count:\n",
    "        # If any machine has not been tried, try it\n",
    "        arm = count.index(0)\n",
    "    else:        \n",
    "        # Calculate UCB for each machine\n",
    "        #average reward + exploration bonus\n",
    "        ucb_values = [\n",
    "            rewards[i] / count[i] + math.sqrt(2 * math.log(t) / count[i])\n",
    "            for i in range(n_machines)\n",
    "        ]\n",
    "        arm = ucb_values.index(max(ucb_values)) #pick the machine with the highest UCB value\n",
    "\n",
    "    reward = 1 if random.random() < true_rewards[arm] else 0 \n",
    "    count[arm] += 1\n",
    "    rewards[arm] += reward"
   ]
  },
  {
   "cell_type": "code",
   "execution_count": 38,
   "id": "1ec2182f",
   "metadata": {},
   "outputs": [
    {
     "name": "stdout",
     "output_type": "stream",
     "text": [
      "Machine 1: Played 4 ;Estimated win rate: 0.25\n",
      "Machine 2: Played 2 ;Estimated win rate: 0.00\n",
      "Machine 3: Played 4 ;Estimated win rate: 0.50\n",
      "Best Machine to play: 3\n"
     ]
    }
   ],
   "source": [
    "#show results\n",
    "for i in range(n_machines):\n",
    "    print(f\"Machine {i + 1}: Played {count[i]} ;Estimated win rate: {rewards[i] / count[i]:.2f}\")\n",
    "\n",
    "print(\"Best Machine to play:\", rewards.index(max(rewards)) + 1)\n"
   ]
  },
  {
   "cell_type": "code",
   "execution_count": null,
   "id": "e9b4fff9",
   "metadata": {},
   "outputs": [],
   "source": []
  }
 ],
 "metadata": {
  "kernelspec": {
   "display_name": "base",
   "language": "python",
   "name": "python3"
  },
  "language_info": {
   "codemirror_mode": {
    "name": "ipython",
    "version": 3
   },
   "file_extension": ".py",
   "mimetype": "text/x-python",
   "name": "python",
   "nbconvert_exporter": "python",
   "pygments_lexer": "ipython3",
   "version": "3.12.3"
  }
 },
 "nbformat": 4,
 "nbformat_minor": 5
}
