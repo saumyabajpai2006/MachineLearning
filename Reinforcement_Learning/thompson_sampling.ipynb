{
 "cells": [
  {
   "cell_type": "markdown",
   "id": "8d2c311a",
   "metadata": {},
   "source": [
    "BENEFITS \n",
    "\n",
    "- Each machine starts with a random chance of being the best\n",
    "- Every time you play ,you update what you know about each machine\n",
    "- Instead of just picking the machine with tha highest average , you randomly choose based on how confident you are that a machine is the best\n",
    "\n",
    "why is this better : Even if a machine was lucky early, Thompson Sampling till tests other machines in a smart way. It doesn't get stuck on a bad choice"
   ]
  },
  {
   "cell_type": "markdown",
   "id": "cfe34b32",
   "metadata": {},
   "source": []
  },
  {
   "cell_type": "code",
   "execution_count": 25,
   "id": "86004f0c",
   "metadata": {},
   "outputs": [],
   "source": [
    "import random"
   ]
  },
  {
   "cell_type": "code",
   "execution_count": 26,
   "id": "a09c5dff",
   "metadata": {},
   "outputs": [],
   "source": [
    "n_machines = 3  # Number of machines\n",
    "n_rounds = 10  # Total number of rounds to play"
   ]
  },
  {
   "cell_type": "code",
   "execution_count": 27,
   "id": "f037ddd8",
   "metadata": {},
   "outputs": [],
   "source": [
    "true_rewards = [0.2, 0.5, 0.8]  # True probabilities of success for each machine"
   ]
  },
  {
   "cell_type": "code",
   "execution_count": 28,
   "id": "588e1aa8",
   "metadata": {},
   "outputs": [],
   "source": [
    "success = [0] * n_machines  # Count of successes for each machine\n",
    "failures = [0] * n_machines  # Count of failures for each machine"
   ]
  },
  {
   "cell_type": "code",
   "execution_count": 30,
   "id": "cce7e41c",
   "metadata": {},
   "outputs": [],
   "source": [
    "for i in range(n_rounds):\n",
    "\n",
    "    sampled_values = [random.betavariate(success[i] + 1, failures[i] + 1) for i in range(n_machines)]\n",
    "    arm = sampled_values.index(max(sampled_values))  # choose the best guess\n",
    "    reward = 1 if random.random() < true_rewards[arm] else 0  # Simulate the reward based on the true probabilities\n",
    "    if reward == 1:\n",
    "        success[arm] += 1\n",
    "    else:\n",
    "        failures[arm] += 1\n"
   ]
  },
  {
   "cell_type": "code",
   "execution_count": 31,
   "id": "486ef4e7",
   "metadata": {},
   "outputs": [
    {
     "name": "stdout",
     "output_type": "stream",
     "text": [
      "Machine 1: Played 3 times; Estimated win rate: 0.00\n",
      "Machine 2: Played 4 times; Estimated win rate: 0.50\n",
      "Machine 3: Played 6 times; Estimated win rate: 0.67\n",
      "Best Machine to play: 3\n"
     ]
    }
   ],
   "source": [
    "#show result\n",
    "for i in range(n_machines):\n",
    "    total = success[i] + failures[i]\n",
    "    print(f\"Machine {i + 1}: Played {total} times; Estimated win rate: {success[i] / total:.2f}\")\n",
    "\n",
    "print(\"Best Machine to play:\", success.index(max(success)) + 1)"
   ]
  },
  {
   "cell_type": "code",
   "execution_count": null,
   "id": "0bcab342",
   "metadata": {},
   "outputs": [],
   "source": []
  }
 ],
 "metadata": {
  "kernelspec": {
   "display_name": "base",
   "language": "python",
   "name": "python3"
  },
  "language_info": {
   "codemirror_mode": {
    "name": "ipython",
    "version": 3
   },
   "file_extension": ".py",
   "mimetype": "text/x-python",
   "name": "python",
   "nbconvert_exporter": "python",
   "pygments_lexer": "ipython3",
   "version": "3.12.3"
  }
 },
 "nbformat": 4,
 "nbformat_minor": 5
}
